{
 "cells": [
  {
   "cell_type": "code",
   "execution_count": 1,
   "metadata": {},
   "outputs": [],
   "source": [
    "def main():\n",
    "\n",
    "    Books = []\n",
    "    Borrowers = {}\n",
    "    Checkouts = {}\n",
    "    while True:\n",
    "        s = input()\n",
    "        if s == \"Books\":\n",
    "            d = 1\n",
    "        elif s == \"Borrowers\":\n",
    "            d = 2\n",
    "        elif s == \"Checkouts\":\n",
    "            d = 3\n",
    "        elif s == \"EndOfInput\":\n",
    "            break\n",
    "\n",
    "    else:\n",
    "        s = s.split(\"~\")\n",
    "    if d == 1:\n",
    "        Books.append(s)\n",
    "    elif d == 2:\n",
    "        Borrowers[s[0]] = s[1]\n",
    "        Checkouts[s[0]] = []\n",
    "    elif d == 3:\n",
    "\n",
    "        Checkouts[s[-2]].append(s[-1])\n",
    "\n",
    "\n",
    "    points = {\"A\":10, \"AB\":9, \"B\":8, \"BC\":7, \"C\":6, \"CD\":5, \"D\":4}\n",
    "\n",
    "    for idx in sorted(Checkouts):\n",
    "\n",
    "        p = [points[x] for x in Checkouts[idx]]\n",
    "\n",
    "        n = len(p) or 1\n",
    "\n",
    "        marks = str(round(sum(p)/n,2)) if p else \"0\"\n",
    "\n",
    "        d = [idx,Books[idx],marks]\n",
    "\n",
    "        print(\"~\".join(d))\n",
    "\n",
    "        main()"
   ]
  },
  {
   "cell_type": "code",
   "execution_count": null,
   "metadata": {},
   "outputs": [],
   "source": []
  }
 ],
 "metadata": {
  "kernelspec": {
   "display_name": "Python 3",
   "language": "python",
   "name": "python3"
  },
  "language_info": {
   "codemirror_mode": {
    "name": "ipython",
    "version": 3
   },
   "file_extension": ".py",
   "mimetype": "text/x-python",
   "name": "python",
   "nbconvert_exporter": "python",
   "pygments_lexer": "ipython3",
   "version": "3.7.4"
  }
 },
 "nbformat": 4,
 "nbformat_minor": 2
}
